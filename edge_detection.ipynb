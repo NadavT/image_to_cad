{
 "cells": [
  {
   "cell_type": "markdown",
   "metadata": {},
   "source": [
    "# Edge detection using Canny algorithm"
   ]
  },
  {
   "cell_type": "code",
   "execution_count": 7,
   "metadata": {},
   "outputs": [],
   "source": [
    "import cv2\n",
    "\n",
    "# Read the original image\n",
    "img = cv2.imread('test.png') \n",
    "# Display original image\n",
    "cv2.imshow('Original', img)\n",
    "cv2.waitKey(0)\n",
    "\n",
    "# Convert to graycsale\n",
    "img_gray = cv2.cvtColor(img, cv2.COLOR_BGR2GRAY)\n",
    "\n",
    "# Canny Edge Detection\n",
    "edges = cv2.Canny(image=img_gray, threshold1=100, threshold2=200) # Canny Edge Detection\n",
    "# Display Canny Edge Detection Image\n",
    "cv2.imshow('Canny Edge Detection', edges)\n",
    "cv2.waitKey(0)\n",
    "\n",
    "cv2.destroyAllWindows()"
   ]
  },
  {
   "cell_type": "markdown",
   "metadata": {},
   "source": [
    "# Contours from image"
   ]
  },
  {
   "cell_type": "code",
   "execution_count": 1,
   "metadata": {},
   "outputs": [],
   "source": [
    "image_path = \"resources/xPhys.ppm\""
   ]
  },
  {
   "cell_type": "code",
   "execution_count": 2,
   "metadata": {},
   "outputs": [],
   "source": [
    "import cv2\n",
    "\n",
    "# Get image\n",
    "image=cv2.imread(image_path)\n",
    "# cv2.imshow('input image',image)\n",
    "\n",
    "# Convert to grayscale\n",
    "gray=cv2.cvtColor(image,cv2.COLOR_BGR2GRAY)\n",
    "# cv2.imshow('grayscale image',gray)\n",
    "# cv2.waitKey(0)\n",
    "\n",
    "# Canny edges\n",
    "edged=cv2.Canny(gray,30,200)\n",
    "cv2.imshow('canny edges',edged)\n",
    "# cv2.waitKey(0)\n",
    "\n",
    "# Find contours\n",
    "contours, hierarchy=cv2.findContours(edged,cv2.RETR_TREE,cv2.CHAIN_APPROX_SIMPLE)\n",
    "\n",
    "# Draw contours\n",
    "cv2.drawContours(image,contours,-1,(0xff,0,0),1)\n",
    "cv2.imshow('contours',image)\n",
    "cv2.waitKey(0)\n",
    "\n",
    "cv2.destroyAllWindows()"
   ]
  },
  {
   "cell_type": "code",
   "execution_count": 4,
   "metadata": {},
   "outputs": [],
   "source": [
    "import pyvoronoi\n",
    "processed_contours = [[line for line in contour] for contour in contours]\n",
    "segments = []\n",
    "for contour in processed_contours:\n",
    "\tcontour_segment = []\n",
    "\tfor line in contour:\n",
    "\t\tfor vertex in line:\n",
    "\t\t\tcontour_segment.append([vertex[0], vertex[1]])\n",
    "\tsegments.append(contour_segment)\n",
    "pv = pyvoronoi.Pyvoronoi(100)\n",
    "# pv.AddSegment([[0.1,0.8],[0.3,0.6]])\n",
    "pv.AddSegment(segments[2])\n",
    "used_segments = []\n",
    "for segment in segments:\n",
    "\tif len(segment) > 1:\n",
    "\t\tfor i in range(len(segment) - 1):\n",
    "\t\t\tpv.AddSegment(segment[i:i+2])\n",
    "\t\t\tused_segments.append(segment[i:i+2])\n",
    "pv.Construct()"
   ]
  },
  {
   "cell_type": "code",
   "execution_count": 3,
   "metadata": {},
   "outputs": [],
   "source": [
    "import pyvoronoi\n",
    "pv = pyvoronoi.Pyvoronoi(100)\n",
    "for contour in contours:\n",
    "\tprev = None\n",
    "\tfor line in contour:\n",
    "\t\tfor vertex in line:\n",
    "\t\t\tif prev is not None:\n",
    "\t\t\t\tpv.AddSegment([[prev[0], prev[1]], [vertex[0], vertex[1]]])\n",
    "\t\t\tprev = vertex\n",
    "pv.Construct()"
   ]
  },
  {
   "cell_type": "code",
   "execution_count": 3,
   "metadata": {},
   "outputs": [
    {
     "ename": "NameError",
     "evalue": "name 'pv' is not defined",
     "output_type": "error",
     "traceback": [
      "\u001b[0;31m---------------------------------------------------------------------------\u001b[0m",
      "\u001b[0;31mNameError\u001b[0m                                 Traceback (most recent call last)",
      "\u001b[1;32m/home/nadav/computer_graphics_projects/photo_to_cad/edge_detection.ipynb Cell 6'\u001b[0m in \u001b[0;36m<cell line: 8>\u001b[0;34m()\u001b[0m\n\u001b[1;32m      <a href='vscode-notebook-cell://wsl%2Bubuntu/home/nadav/computer_graphics_projects/photo_to_cad/edge_detection.ipynb#ch0000005vscode-remote?line=4'>5</a>\u001b[0m x2, y2 \u001b[39m=\u001b[39m \u001b[39m200\u001b[39m, \u001b[39m400\u001b[39m\n\u001b[1;32m      <a href='vscode-notebook-cell://wsl%2Bubuntu/home/nadav/computer_graphics_projects/photo_to_cad/edge_detection.ipynb#ch0000005vscode-remote?line=5'>6</a>\u001b[0m image_vor \u001b[39m=\u001b[39m np\u001b[39m.\u001b[39mones((height, width)) \u001b[39m*\u001b[39m \u001b[39m255\u001b[39m\n\u001b[0;32m----> <a href='vscode-notebook-cell://wsl%2Bubuntu/home/nadav/computer_graphics_projects/photo_to_cad/edge_detection.ipynb#ch0000005vscode-remote?line=7'>8</a>\u001b[0m edges \u001b[39m=\u001b[39m pv\u001b[39m.\u001b[39mGetEdges()\n\u001b[1;32m      <a href='vscode-notebook-cell://wsl%2Bubuntu/home/nadav/computer_graphics_projects/photo_to_cad/edge_detection.ipynb#ch0000005vscode-remote?line=8'>9</a>\u001b[0m vertices \u001b[39m=\u001b[39m pv\u001b[39m.\u001b[39mGetVertices()\n\u001b[1;32m     <a href='vscode-notebook-cell://wsl%2Bubuntu/home/nadav/computer_graphics_projects/photo_to_cad/edge_detection.ipynb#ch0000005vscode-remote?line=9'>10</a>\u001b[0m cells \u001b[39m=\u001b[39m pv\u001b[39m.\u001b[39mGetCells()\n",
      "\u001b[0;31mNameError\u001b[0m: name 'pv' is not defined"
     ]
    }
   ],
   "source": [
    "import numpy as np\n",
    "\n",
    "width, height = image.shape[1], image.shape[0]\n",
    "x1, y1 = 0, 0\n",
    "x2, y2 = 200, 400\n",
    "image_vor = np.ones((height, width)) * 255\n",
    "\n",
    "edges = pv.GetEdges()\n",
    "vertices = pv.GetVertices()\n",
    "cells = pv.GetCells()\n",
    "\n",
    "line_thickness = 2\n",
    "for edge in edges:\n",
    "\tif edge.start != -1 and edge.end != -1:\n",
    "\t\ttry:\n",
    "\t\t\tstart_vertex = (int(vertices[edge.start].X), int(vertices[edge.start].Y))\n",
    "\t\t\tend_vertex = (int(vertices[edge.end].X), int(vertices[edge.end].Y))\n",
    "\t\t\tcv2.line(image_vor, start_vertex, end_vertex, (0, 255, 0), thickness=line_thickness)\n",
    "\t\texcept OverflowError:\n",
    "\t\t\tpass\n",
    "\t\texcept ValueError:\n",
    "\t\t\tpass\n",
    "cv2.imshow(\"voronoi\", image_vor)\n",
    "\n",
    "cv2.waitKey(0)\n",
    "\n",
    "cv2.destroyAllWindows()"
   ]
  },
  {
   "cell_type": "code",
   "execution_count": 5,
   "metadata": {},
   "outputs": [],
   "source": [
    "import numpy as np\n",
    "\n",
    "width, height = image.shape[1], image.shape[0]\n",
    "image_vor = np.ones((height, width)) * 255\n",
    "\n",
    "line_thickness = 1\n",
    "for contour in contours:\n",
    "\tprev = None\n",
    "\tfor line in contour:\n",
    "\t\tfor vertex in line:\n",
    "\t\t\tif prev is not None:\n",
    "\t\t\t\tcv2.line(image_vor, (prev[0], prev[1]), (vertex[0], vertex[1]), (0, 255, 0), thickness=line_thickness)\n",
    "\t\t\tprev = vertex\n",
    "cv2.imshow(\"voronoi\", image_vor)\n",
    "\n",
    "cv2.waitKey(0)\n",
    "\n",
    "cv2.destroyAllWindows()\n"
   ]
  }
 ],
 "metadata": {
  "kernelspec": {
   "display_name": "Python 3.8.10 ('venv': venv)",
   "language": "python",
   "name": "python3"
  },
  "language_info": {
   "codemirror_mode": {
    "name": "ipython",
    "version": 3
   },
   "file_extension": ".py",
   "mimetype": "text/x-python",
   "name": "python",
   "nbconvert_exporter": "python",
   "pygments_lexer": "ipython3",
   "version": "3.8.10"
  },
  "orig_nbformat": 4,
  "vscode": {
   "interpreter": {
    "hash": "32056a4e5d4fca038b0ba5e2679512e0987e9a071df9d7df4b6ddbd5dc0c4949"
   }
  }
 },
 "nbformat": 4,
 "nbformat_minor": 2
}
